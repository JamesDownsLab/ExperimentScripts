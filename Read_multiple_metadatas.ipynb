{
 "cells": [
  {
   "cell_type": "code",
   "execution_count": 8,
   "metadata": {},
   "outputs": [],
   "source": [
    "import os\n",
    "\n",
    "from Generic import filedialogs\n",
    "from ParticleTracking import dataframes"
   ]
  },
  {
   "cell_type": "code",
   "execution_count": 2,
   "metadata": {},
   "outputs": [
    {
     "data": {
      "text/plain": [
       "'/media/data/Data/May2019/TemperatureRamps230519'"
      ]
     },
     "execution_count": 2,
     "metadata": {},
     "output_type": "execute_result"
    }
   ],
   "source": [
    "direc = filedialogs.open_directory()\n",
    "direc"
   ]
  },
  {
   "cell_type": "code",
   "execution_count": 3,
   "metadata": {},
   "outputs": [
    {
     "data": {
      "text/plain": [
       "['/media/data/Data/May2019/TemperatureRamps230519/15630011.hdf5',\n",
       " '/media/data/Data/May2019/TemperatureRamps230519/15630009.hdf5',\n",
       " '/media/data/Data/May2019/TemperatureRamps230519/15640007.hdf5',\n",
       " '/media/data/Data/May2019/TemperatureRamps230519/15640001.hdf5',\n",
       " '/media/data/Data/May2019/TemperatureRamps230519/15640002.hdf5',\n",
       " '/media/data/Data/May2019/TemperatureRamps230519/15640008.hdf5',\n",
       " '/media/data/Data/May2019/TemperatureRamps230519/15630010.hdf5']"
      ]
     },
     "execution_count": 3,
     "metadata": {},
     "output_type": "execute_result"
    }
   ],
   "source": [
    "files = filedialogs.get_files_directory(direc+'/*.hdf5')\n",
    "files"
   ]
  },
  {
   "cell_type": "code",
   "execution_count": 9,
   "metadata": {},
   "outputs": [],
   "source": [
    "ns = {}\n",
    "for file in files:\n",
    "    end = os.path.split(file)[1]\n",
    "    MS = dataframes.MetaStore(file)\n",
    "    try:\n",
    "        ns[end] = MS.metadata['n']\n",
    "    except:\n",
    "        ns[end] = 'broken'"
   ]
  },
  {
   "cell_type": "code",
   "execution_count": 10,
   "metadata": {},
   "outputs": [
    {
     "data": {
      "text/plain": [
       "{'15630011.hdf5': 2219.2716135458168,\n",
       " '15630009.hdf5': 1771.2677622841966,\n",
       " '15640007.hdf5': 1711.965986055777,\n",
       " '15640001.hdf5': 1836.99505312085,\n",
       " '15640002.hdf5': 1533.866567065073,\n",
       " '15640008.hdf5': 'broken',\n",
       " '15630010.hdf5': 2033.367612881806}"
      ]
     },
     "execution_count": 10,
     "metadata": {},
     "output_type": "execute_result"
    }
   ],
   "source": [
    "ns"
   ]
  }
 ],
 "metadata": {
  "kernelspec": {
   "display_name": "Python 3",
   "language": "python",
   "name": "python3"
  },
  "language_info": {
   "codemirror_mode": {
    "name": "ipython",
    "version": 3
   },
   "file_extension": ".py",
   "mimetype": "text/x-python",
   "name": "python",
   "nbconvert_exporter": "python",
   "pygments_lexer": "ipython3",
   "version": "3.7.3"
  }
 },
 "nbformat": 4,
 "nbformat_minor": 2
}
