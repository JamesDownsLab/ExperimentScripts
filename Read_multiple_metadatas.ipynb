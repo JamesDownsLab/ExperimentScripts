{
 "cells": [
  {
   "cell_type": "code",
   "execution_count": 1,
   "metadata": {
    "pycharm": {
     "is_executing": false
    }
   },
   "outputs": [],
   "source": [
    "import os\n",
    "\n",
    "from Generic import filedialogs\n",
    "from ParticleTracking import dataframes"
   ]
  },
  {
   "cell_type": "code",
   "execution_count": 2,
   "metadata": {
    "pycharm": {
     "is_executing": false
    }
   },
   "outputs": [
    {
     "data": {
      "text/plain": "'/media/data/Data/June2019/RampsN26'"
     },
     "metadata": {},
     "output_type": "execute_result",
     "execution_count": 2
    }
   ],
   "source": [
    "direc = filedialogs.open_directory()\n",
    "direc"
   ]
  },
  {
   "cell_type": "code",
   "execution_count": 3,
   "metadata": {
    "pycharm": {
     "is_executing": false
    }
   },
   "outputs": [
    {
     "data": {
      "text/plain": "['/media/data/Data/June2019/RampsN26/15690003.hdf5',\n '/media/data/Data/June2019/RampsN26/15690002.hdf5',\n '/media/data/Data/June2019/RampsN26/15700003.hdf5',\n '/media/data/Data/June2019/RampsN26/15690005.hdf5',\n '/media/data/Data/June2019/RampsN26/15690004.hdf5',\n '/media/data/Data/June2019/RampsN26/15700002.hdf5',\n '/media/data/Data/June2019/RampsN26/15690001.hdf5',\n '/media/data/Data/June2019/RampsN26/15700001.hdf5',\n '/media/data/Data/June2019/RampsN26/15710001.hdf5']"
     },
     "metadata": {},
     "output_type": "execute_result",
     "execution_count": 3
    }
   ],
   "source": [
    "files = filedialogs.get_files_directory(direc+'/*.hdf5')\n",
    "files"
   ]
  },
  {
   "cell_type": "code",
   "execution_count": 7,
   "metadata": {
    "pycharm": {
     "is_executing": false
    }
   },
   "outputs": [],
   "source": [
    "ns = {}\n",
    "for file in files:\n",
    "    end = os.path.split(file)[1]\n",
    "    MS = dataframes.MetaStore(file)\n",
    "    try:\n",
    "        ns[end] = MS.metadata['n']\n",
    "    except:\n",
    "        ns[end] = 'broken'"
   ]
  },
  {
   "cell_type": "code",
   "execution_count": 8,
   "metadata": {
    "pycharm": {
     "is_executing": false
    }
   },
   "outputs": [
    {
     "data": {
      "text/plain": "{'15690003.hdf5': 1811.671812749004,\n '15690002.hdf5': 1910.8873505976096,\n '15700003.hdf5': 2292.9828187250996,\n '15690005.hdf5': 2004.9372675962816,\n '15690004.hdf5': 1725.2370019920318,\n '15700002.hdf5': 2203.304166666667,\n '15690001.hdf5': 'broken',\n '15700001.hdf5': 'broken',\n '15710001.hdf5': 'broken'}"
     },
     "metadata": {},
     "output_type": "execute_result",
     "execution_count": 8
    }
   ],
   "source": [
    "ns"
   ]
  }
 ],
 "metadata": {
  "kernelspec": {
   "display_name": "Python 3",
   "language": "python",
   "name": "python3"
  },
  "language_info": {
   "codemirror_mode": {
    "name": "ipython",
    "version": 3
   },
   "file_extension": ".py",
   "mimetype": "text/x-python",
   "name": "python",
   "nbconvert_exporter": "python",
   "pygments_lexer": "ipython3",
   "version": "3.7.3"
  }
 },
 "nbformat": 4,
 "nbformat_minor": 2
}