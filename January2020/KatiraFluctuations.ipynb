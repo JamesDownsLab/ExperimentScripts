{
 "cells": [
  {
   "cell_type": "code",
   "execution_count": 107,
   "metadata": {},
   "outputs": [],
   "source": [
    "from math import pi, atan, sin, cos, radians\n",
    "\n",
    "import cv2\n",
    "import numpy as np\n",
    "from scipy import spatial\n",
    "import matplotlib.pyplot as plt\n",
    "from tqdm import tqdm\n",
    "\n",
    "from Generic import images, filedialogs\n",
    "from ParticleTracking import dataframes, statistics"
   ]
  },
  {
   "cell_type": "code",
   "execution_count": 108,
   "metadata": {},
   "outputs": [],
   "source": [
    "direc = \"/media/data/Data/January2020/RecordFluctuatingInterface/Quick/first_frames\"\n",
    "files = filedialogs.get_files_directory(direc+'/*.png')\n",
    "savename = direc + '/data.hdf5'"
   ]
  },
  {
   "cell_type": "code",
   "execution_count": 109,
   "metadata": {},
   "outputs": [
    {
     "name": "stderr",
     "output_type": "stream",
     "text": [
      "Loading images: 100%|██████████| 50/50 [00:03<00:00, 13.89it/s]\n",
      "Finding circles: 100%|██████████| 50/50 [00:03<00:00, 14.23it/s]\n"
     ]
    }
   ],
   "source": [
    "N = len(files)\n",
    "ims = [images.load(f, 0) for f in tqdm(files, 'Loading images')]\n",
    "circles = [images.find_circles(im, 27, 200, 7, 16, 16) for im in tqdm(ims, 'Finding circles')]\n"
   ]
  },
  {
   "cell_type": "code",
   "execution_count": 110,
   "metadata": {},
   "outputs": [
    {
     "name": "stderr",
     "output_type": "stream",
     "text": [
      "Adding Circles: 50it [00:00, 541.89it/s]\n"
     ]
    },
    {
     "name": "stdout",
     "output_type": "stream",
     "text": [
      "[########################################] | 100% Completed |  0.3s\n"
     ]
    }
   ],
   "source": [
    "data = dataframes.DataStore(savename, load=False)\n",
    "for f, info in tqdm(enumerate(circles), 'Adding Circles'):\n",
    "    data.add_tracking_data(f, info, ['x', 'y', 'r'])\n",
    "    \n",
    "calc = statistics.PropertyCalculator(data)\n",
    "calc.order()"
   ]
  },
  {
   "cell_type": "code",
   "execution_count": 111,
   "metadata": {},
   "outputs": [],
   "source": [
    "def get_cgw(df):\n",
    "    tree = spatial.cKDTree(df[['x', 'y']].values)\n",
    "    dists, _ = tree.query(tree.data, 2)\n",
    "    cgw = np.mean(dists[:, 1])\n",
    "    return cgw"
   ]
  },
  {
   "cell_type": "code",
   "execution_count": 112,
   "metadata": {},
   "outputs": [],
   "source": [
    "cgw = get_cgw(data.df.loc[0]) / 2"
   ]
  },
  {
   "cell_type": "code",
   "execution_count": 113,
   "metadata": {},
   "outputs": [],
   "source": [
    "lattice_spacing = 5"
   ]
  },
  {
   "cell_type": "code",
   "execution_count": 114,
   "metadata": {},
   "outputs": [],
   "source": [
    "# Get the lattice points\n",
    "x = np.arange(0, max(data.df.x), lattice_spacing)\n",
    "y = np.arange(0, max(data.df.y), lattice_spacing)\n",
    "x, y = np.meshgrid(x, y)"
   ]
  },
  {
   "cell_type": "code",
   "execution_count": 115,
   "metadata": {},
   "outputs": [],
   "source": [
    "def coarse_order_field(df, cgw, x, y, no_of_neighbours=20):\n",
    "    \"\"\"\n",
    "    Calculate the coarse-grained field characterising local orientation order\n",
    "    \"\"\"\n",
    "\n",
    "    order = df.order.values\n",
    "\n",
    "    # Generate the lattice nodes to query\n",
    "    # x, y = np.meshgrid(x, y)\n",
    "    r = np.dstack((x, y))\n",
    "\n",
    "    # Get the positions of all the particles\n",
    "    particles = df[['x', 'y']].values\n",
    "\n",
    "    # Generate the tree from the particles\n",
    "    tree = spatial.cKDTree(particles)\n",
    "\n",
    "    # Query the tree at all the lattice nodes to find the nearest n particles\n",
    "    # Set n_jobs=-1 to use all cores\n",
    "    dists, indices = tree.query(r, no_of_neighbours, n_jobs=-1)\n",
    "\n",
    "    # Calculate all the coarse-grained delta functions (Katira ArXiv eqn 3\n",
    "    cg_deltas = np.exp(-dists ** 2 / (2 * cgw ** 2)) / (2 * pi * cgw ** 2)\n",
    "\n",
    "    # Multiply by the orders to get the summands\n",
    "    summands = cg_deltas * order[indices]\n",
    "\n",
    "    # Sum along axis 2 to calculate the field\n",
    "    field = np.sum(summands, axis=2)\n",
    "\n",
    "    return field, x, y"
   ]
  },
  {
   "cell_type": "code",
   "execution_count": 116,
   "metadata": {},
   "outputs": [
    {
     "name": "stderr",
     "output_type": "stream",
     "text": [
      "Calculating fields: 100%|██████████| 50/50 [00:07<00:00,  6.28it/s]\n"
     ]
    }
   ],
   "source": [
    "fields = []\n",
    "for f in tqdm(range(N), 'Calculating fields'):\n",
    "    field, x, y = coarse_order_field(data.df.loc[f], cgw, x, y)\n",
    "    fields.append(field)"
   ]
  },
  {
   "cell_type": "code",
   "execution_count": 117,
   "metadata": {},
   "outputs": [],
   "source": [
    "def get_field_threshold(fields, ls, im):\n",
    "    # Draw a box around an always ordered region of the image to\n",
    "    # calculate the phi_o\n",
    "    fields = np.dstack(fields)\n",
    "    line_selector = LineSelector(im)\n",
    "    op1, op2 = line_selector.points\n",
    "    phi_o = np.mean(\n",
    "        fields[op1[1] // ls:op2[1] // ls, op1[0] // ls:op2[0] // ls, :])\n",
    "\n",
    "    # Repeat for disordered\n",
    "    line_selector = LineSelector(im)\n",
    "    dp1, dp2 = line_selector.points\n",
    "    phi_d = np.mean(\n",
    "        fields[dp1[1] // ls:dp2[1] // ls, dp1[0] // ls:dp2[0] // ls, :])\n",
    "\n",
    "    field_threshold = (phi_o + phi_d) / 2\n",
    "    return field_threshold"
   ]
  },
  {
   "cell_type": "code",
   "execution_count": 118,
   "metadata": {},
   "outputs": [],
   "source": [
    "class LineSelector:\n",
    "    def __init__(self, im):\n",
    "        cv2.namedWindow('line', cv2.WINDOW_NORMAL)\n",
    "        cv2.resizeWindow('line', 960, 540)\n",
    "        cv2.setMouseCallback('line', self.record)\n",
    "        self.points = []\n",
    "        while True:\n",
    "            cv2.imshow('line', im)\n",
    "            key = cv2.waitKey(1) & 0xFF\n",
    "            if len(self.points) == 2:\n",
    "                break\n",
    "        cv2.destroyAllWindows()\n",
    "\n",
    "    def record(self, event, x, y, flags, param):\n",
    "        if event == cv2.EVENT_LBUTTONDOWN:\n",
    "            self.points.append([x, y])"
   ]
  },
  {
   "cell_type": "code",
   "execution_count": 119,
   "metadata": {},
   "outputs": [],
   "source": [
    "field_threshold = get_field_threshold(fields, lattice_spacing, ims[0])"
   ]
  },
  {
   "cell_type": "code",
   "execution_count": 120,
   "metadata": {},
   "outputs": [],
   "source": [
    "def find_contours(f, t):\n",
    "    t_low = t - 0.02*t\n",
    "    t_high = t + 0.02*5\n",
    "    new_f = (f < t_high) * (f > t_low)\n",
    "    new_f = np.uint8(new_f)\n",
    "    contours = images.find_contours(new_f)\n",
    "    contours = images.sort_contours(contours)\n",
    "    return contours[-1]"
   ]
  },
  {
   "cell_type": "code",
   "execution_count": 195,
   "metadata": {},
   "outputs": [],
   "source": [
    "contours = [find_contours(f, field_threshold) for f in fields]\n",
    "# multiply contours by the spacing\n",
    "contours = [c*lattice_spacing for c in contours]"
   ]
  },
  {
   "cell_type": "code",
   "execution_count": 122,
   "metadata": {},
   "outputs": [],
   "source": [
    "ls = LineSelector(ims[0])"
   ]
  },
  {
   "cell_type": "code",
   "execution_count": 123,
   "metadata": {},
   "outputs": [],
   "source": [
    "p1, p2 = ls.points\n",
    "m = (p2[1] - p1[1])/(p2[0]-p1[0])\n",
    "a = -atan(m)\n",
    "c = np.array([i//2 for i in np.shape(ims[0])])[::-1]"
   ]
  },
  {
   "cell_type": "code",
   "execution_count": 124,
   "metadata": {},
   "outputs": [],
   "source": [
    "def rotate_points(points, center, a):\n",
    "    rot = np.array(((cos(a), -sin(a)), (sin(a), cos(a))))\n",
    "    a1 = points - center\n",
    "    a2 = rot@a1.T\n",
    "    a3 = a2.T + center\n",
    "    return a3\n",
    "#     return center + rot@(points-center).T.squeeze().T"
   ]
  },
  {
   "cell_type": "code",
   "execution_count": 125,
   "metadata": {},
   "outputs": [
    {
     "data": {
      "text/plain": [
       "(array([231.12542145, 927.63568199]), array([1887.31532603,  927.63568199]))"
      ]
     },
     "execution_count": 125,
     "metadata": {},
     "output_type": "execute_result"
    }
   ],
   "source": [
    "p1 = rotate_points(np.array(p1), c, a)\n",
    "p2 = rotate_points(np.array(p2), c, a)\n",
    "p1, p2"
   ]
  },
  {
   "cell_type": "code",
   "execution_count": 196,
   "metadata": {},
   "outputs": [
    {
     "name": "stdout",
     "output_type": "stream",
     "text": [
      "CPU times: user 1.6 ms, sys: 12.3 ms, total: 13.9 ms\n",
      "Wall time: 5.2 ms\n"
     ]
    }
   ],
   "source": [
    "%%time\n",
    "contours = [rotate_points(contour.squeeze(), c, a) for contour in contours]"
   ]
  },
  {
   "cell_type": "code",
   "execution_count": 127,
   "metadata": {},
   "outputs": [],
   "source": [
    "im = np.zeros((ims[0].shape[0]*3, ims[0].shape[1]*3))\n",
    "im = cv2.polylines(im, [contours[0].astype('int32')], True, (255, 255, 255))\n",
    "im = images.dilate(im, (3, 3))\n",
    "# im = cv2.line(im, (int(p1[0]), int(p1[1])), (int(p2[0]), int(p2[1])), (255, 255, 255), 2)\n",
    "images.plot(im)"
   ]
  },
  {
   "cell_type": "code",
   "execution_count": 128,
   "metadata": {},
   "outputs": [
    {
     "name": "stdout",
     "output_type": "stream",
     "text": [
      "Using matplotlib backend: TkAgg\n"
     ]
    }
   ],
   "source": [
    "%matplotlib auto"
   ]
  },
  {
   "cell_type": "code",
   "execution_count": 129,
   "metadata": {},
   "outputs": [],
   "source": [
    "h = p1[1]\n",
    "xs = []\n",
    "ys = []\n",
    "xmin = int(p1[0])\n",
    "xmax = int(p2[0])\n",
    "for x in np.arange(xmin, xmax):\n",
    "    crossings = np.argwhere(im[:, x] == 255)\n",
    "    dists = crossings - h\n",
    "    closest = np.argmin((crossings - h)**2)\n",
    "    crossing = crossings[closest]\n",
    "    ys.append(crossing)\n",
    "    xs.append(x)"
   ]
  },
  {
   "cell_type": "code",
   "execution_count": 43,
   "metadata": {},
   "outputs": [
    {
     "data": {
      "text/plain": [
       "[<matplotlib.lines.Line2D at 0x7f662054c978>]"
      ]
     },
     "execution_count": 43,
     "metadata": {},
     "output_type": "execute_result"
    }
   ],
   "source": [
    "plt.plot(xs, ys)"
   ]
  },
  {
   "cell_type": "code",
   "execution_count": 197,
   "metadata": {},
   "outputs": [],
   "source": [
    "def get_h(contour, im, p1, p2):\n",
    "    xs = []\n",
    "    ys = []\n",
    "    xmin = int(p1[0])\n",
    "    xmax = int(p2[0])\n",
    "    h = p1[1]\n",
    "    \n",
    "    im = np.zeros((im.shape[0]*2, im.shape[1]*2))\n",
    "    im = cv2.polylines(im, [contour.astype('int32')], True, (255, 255, 255))\n",
    "    im = images.dilate(im, (3, 3))\n",
    "    for x in np.arange(xmin, xmax):\n",
    "        crossings = np.argwhere(im[:, x] == 255)\n",
    "        dists = crossings - h\n",
    "        closest = np.argmin((crossings-h)**2)\n",
    "        crossing = crossings[closest]\n",
    "        ys.append(crossing[0])\n",
    "        xs.append(x)\n",
    "    hs = [y-h for y in ys]\n",
    "    return hs"
   ]
  },
  {
   "cell_type": "code",
   "execution_count": 198,
   "metadata": {},
   "outputs": [
    {
     "name": "stderr",
     "output_type": "stream",
     "text": [
      "100%|██████████| 50/50 [00:07<00:00,  6.65it/s]\n"
     ]
    }
   ],
   "source": [
    "%timeit\n",
    "hs = [get_h(contour, ims[0], p1, p2) for contour in tqdm(contours)]"
   ]
  },
  {
   "cell_type": "code",
   "execution_count": 182,
   "metadata": {},
   "outputs": [],
   "source": [
    "def get_fourier(hs, L):\n",
    "    sp = [np.fft.fft(h) for h in hs]\n",
    "    N = len(hs[0])\n",
    "    freq = np.fft.fftfreq(N)\n",
    "    \n",
    "    y = np.stack(sp)\n",
    "    y = np.mean(y, axis=0).squeeze()\n",
    "    \n",
    "    \n",
    "    xplot = np.log(freq[1:N//2])\n",
    "    yplot = np.log(L * np.abs(y[1:N // 2]) ** 2)\n",
    "    \n",
    "    p, cov = np.polyfit(xplot, yplot, 1, cov=True)\n",
    "    p1 = np.poly1d(p)\n",
    "      \n",
    "    plt.plot(xplot, yplot)\n",
    "    plt.plot(xplot, p1(xplot))\n",
    "    plt.legend(['Data', 'Fit with gradient ${:.2f} \\pm {:.2f}$'.format(p[0], cov[0][0]**0.5)])\n",
    "    plt.xlabel('$k [$p$^{-1}]$')\n",
    "    plt.ylabel('$ < |\\delta h_k|^2 > L [$p$^3] $')"
   ]
  },
  {
   "cell_type": "code",
   "execution_count": 187,
   "metadata": {},
   "outputs": [],
   "source": [
    "L = xmax - xmin\n",
    "get_fourier(hs, L)"
   ]
  },
  {
   "cell_type": "code",
   "execution_count": 184,
   "metadata": {},
   "outputs": [],
   "source": [
    "import seaborn as sns"
   ]
  },
  {
   "cell_type": "code",
   "execution_count": 185,
   "metadata": {},
   "outputs": [],
   "source": [
    "sns.set()"
   ]
  },
  {
   "cell_type": "code",
   "execution_count": null,
   "metadata": {},
   "outputs": [],
   "source": []
  }
 ],
 "metadata": {
  "kernelspec": {
   "display_name": "Python 3",
   "language": "python",
   "name": "python3"
  },
  "language_info": {
   "codemirror_mode": {
    "name": "ipython",
    "version": 3
   },
   "file_extension": ".py",
   "mimetype": "text/x-python",
   "name": "python",
   "nbconvert_exporter": "python",
   "pygments_lexer": "ipython3",
   "version": "3.7.3"
  }
 },
 "nbformat": 4,
 "nbformat_minor": 2
}
