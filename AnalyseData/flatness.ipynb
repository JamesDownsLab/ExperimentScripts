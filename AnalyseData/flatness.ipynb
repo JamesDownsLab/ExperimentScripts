{
 "cells": [
  {
   "cell_type": "code",
   "execution_count": null,
   "outputs": [],
   "source": [
    "import sys\n",
    "sys.path.append('/home/ppxjd3/Code')\n",
    "\n",
    "from Generic import filedialogs\n",
    "from ParticleTracking import dataframes\n",
    "\n",
    "import numpy as np\n",
    "import matplotlib.pyplot as plt\n"
   ],
   "metadata": {
    "collapsed": false,
    "pycharm": {
     "name": "#%%\n"
    }
   }
  },
  {
   "cell_type": "code",
   "execution_count": null,
   "outputs": [],
   "source": [
    "file = filedialogs.load_filename()\n",
    "data = dataframes.DataStore(file)\n"
   ],
   "metadata": {
    "collapsed": false,
    "pycharm": {
     "name": "#%%\n"
    }
   }
  },
  {
   "cell_type": "code",
   "execution_count": null,
   "outputs": [],
   "source": [
    "boundary = data.get_metadata('boundary')\n",
    "center_of_tray = np.mean(boundary, axis=0)\n",
    "center_of_tray\n"
   ],
   "metadata": {
    "collapsed": false,
    "pycharm": {
     "name": "#%%\n"
    }
   }
  },
  {
   "cell_type": "code",
   "execution_count": null,
   "outputs": [],
   "source": [
    "frames = np.max(data.df.index.values)\n",
    "frames \n"
   ],
   "metadata": {
    "collapsed": false,
    "pycharm": {
     "name": "#%%\n"
    }
   }
  },
  {
   "cell_type": "code",
   "execution_count": null,
   "outputs": [],
   "source": [
    "mean_position = [list(np.mean(data.get_info(f, ['x', 'y']), axis=0))\n",
    "                 for f in range(frames)]\n",
    "    \n",
    "mean_position = np.array(mean_position)"
   ],
   "metadata": {
    "collapsed": false,
    "pycharm": {
     "name": "#%%\n"
    }
   }
  },
  {
   "cell_type": "code",
   "execution_count": null,
   "outputs": [],
   "source": [
    "mean_position.shape \n"
   ],
   "metadata": {
    "collapsed": false,
    "pycharm": {
     "name": "#%%\n"
    }
   }
  },
  {
   "cell_type": "code",
   "execution_count": null,
   "outputs": [],
   "source": [
    "%matplotlib tk\n",
    "fig, ax = plt.subplots()\n",
    "x = data.get_column('x')\n",
    "y = data.get_column('y')\n",
    "# ax.hexbin(mean_position[:, 0], mean_position[:, 1])\n",
    "ax.hexbin(x, y, mincnt=0)\n",
    "for n in range(6):\n",
    "    ax.plot([boundary[n-1, 0], boundary[n, 0]],\n",
    "            [boundary[n-1, 1], boundary[n, 1]], 'g-')\n",
    "ax.set_aspect('equal')\n",
    "    \n",
    "# ax.add_artist(boundary_line)\n"
   ],
   "metadata": {
    "collapsed": false,
    "pycharm": {
     "name": "#%%\n"
    }
   }
  }
 ],
 "metadata": {
  "language_info": {
   "codemirror_mode": {
    "name": "ipython",
    "version": 2
   },
   "file_extension": ".py",
   "mimetype": "text/x-python",
   "name": "python",
   "nbconvert_exporter": "python",
   "pygments_lexer": "ipython2",
   "version": "2.7.6"
  },
  "kernelspec": {
   "name": "python3",
   "language": "python",
   "display_name": "Python 3"
  },
  "pycharm": {
   "stem_cell": {
    "cell_type": "raw",
    "source": [],
    "metadata": {
     "collapsed": false
    }
   }
  }
 },
 "nbformat": 4,
 "nbformat_minor": 0
}