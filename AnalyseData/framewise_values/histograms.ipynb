{
 "cells": [
  {
   "cell_type": "code",
   "execution_count": 1,
   "metadata": {
    "collapsed": true,
    "pycharm": {
     "is_executing": false
    }
   },
   "outputs": [],
   "source": [
    "import sys\n",
    "import os\n",
    "sys.path.append('/home/ppxjd3/Code')\n",
    "\n",
    "import matplotlib.pyplot as plt\n",
    "import numpy as np\n",
    "\n",
    "from Generic import filedialogs\n",
    "from ParticleTracking import dataframes\n",
    "\n",
    "%matplotlib qt\n"
   ]
  },
  {
   "cell_type": "code",
   "execution_count": 2,
   "outputs": [],
   "source": [
    "file = filedialogs.load_filename('Load a dataframe',\n",
    "                                 '/media/Data/data',\n",
    "                                 '*.hdf5')\n",
    "data = dataframes.DataStore(file)\n"
   ],
   "metadata": {
    "collapsed": false,
    "pycharm": {
     "name": "#%%\n",
     "is_executing": false
    }
   }
  },
  {
   "cell_type": "markdown",
   "source": [
    "Get mean order for each duty cycle"
   ],
   "metadata": {
    "collapsed": false,
    "pycharm": {
     "name": "#%% md\n"
    }
   }
  },
  {
   "cell_type": "code",
   "execution_count": 3,
   "outputs": [],
   "source": [
    "mean_duty = data.df.groupby('Duty').mean()\n"
   ],
   "metadata": {
    "collapsed": false,
    "pycharm": {
     "name": "#%%\n",
     "is_executing": false
    }
   }
  },
  {
   "cell_type": "code",
   "execution_count": 24,
   "outputs": [
    {
     "data": {
      "text/plain": "UInt64Index([400, 401, 402, 403, 404, 405, 406, 407, 408, 409,\n             ...\n             974, 975, 976, 977, 978, 979, 980, 981, 983, 985],\n            dtype='uint64', name='Duty', length=553)"
     },
     "metadata": {},
     "output_type": "execute_result",
     "execution_count": 24
    }
   ],
   "source": [
    "mean_duty = mean_duty.drop(0)\n",
    "mean_duty.index\n"
   ],
   "metadata": {
    "collapsed": false,
    "pycharm": {
     "name": "#%%\n",
     "is_executing": false
    }
   }
  },
  {
   "cell_type": "code",
   "execution_count": 4,
   "outputs": [
    {
     "data": {
      "text/plain": "Text(0.5, 1.0, '15600001.hdf5')"
     },
     "metadata": {},
     "output_type": "execute_result",
     "execution_count": 4
    },
    {
     "data": {
      "text/plain": "<Figure size 432x288 with 2 Axes>",
      "image/png": "[encoded data removed]"
     },
     "metadata": {
      "needs_background": "light"
     },
     "output_type": "display_data"
    }
   ],
   "source": [
    "order = mean_duty.order_r\n",
    "density = mean_duty.density\n",
    "duties = mean_duty.index\n",
    "fig, ax1 = plt.subplots()\n",
    "ax2 = ax1.twinx()\n",
    "\n",
    "color1 = 'tab:red'\n",
    "\n",
    "ax1.plot(duties, order, color=color1)\n",
    "ax1.set_xlabel('Duty Cycle / 1000')\n",
    "ax1.set_ylabel('Average Order Parameter', color=color1)\n",
    "ax1.tick_params(axis='y', labelcolor=color1)\n",
    "\n",
    "color2 = 'tab:blue'\n",
    "ax2.plot(duties, density, color=color2)\n",
    "ax2.tick_params(axis='y', labelcolor=color2)\n",
    "ax2.set_ylabel('Average density', color=color2)\n",
    "ax1.set_title(os.path.split(file)[1])\n"
   ],
   "metadata": {
    "collapsed": false,
    "pycharm": {
     "name": "#%%\n",
     "is_executing": false
    }
   }
  },
  {
   "cell_type": "code",
   "execution_count": 33,
   "outputs": [
    {
     "data": {
      "text/plain": "      frame     x     y   r  particle   order_r   order_i  order_mag  \\\nDuty                                                                   \n985       0   993   727  13         0  0.877166 -0.388554   0.959372   \n985       0  1231  1463  13         1  0.183332  0.161232   0.244144   \n985       0  1232  1239  13         2  0.858125  0.430400   0.960012   \n985       0  1240   134  13         3  0.803376  0.128297   0.813556   \n985       0  1244   266  13         4 -0.579496  0.379691   0.692806   \n\n      neighbors  order_mean  order_sus      density  shape_factor  on_edge  \nDuty                                                                        \n985           3    0.731348    0.05058  1687.766724      1.332709    False  \n985           5    0.731348    0.05058  2466.686523      1.211645    False  \n985           5    0.731348    0.05058  2367.313477      1.327300    False  \n985           5    0.731348    0.05058  2221.979980      1.229863    False  \n985           4    0.731348    0.05058  1298.586182      1.251564    False  ",
      "text/html": "<div>\n<style scoped>\n    .dataframe tbody tr th:only-of-type {\n        vertical-align: middle;\n    }\n\n    .dataframe tbody tr th {\n        vertical-align: top;\n    }\n\n    .dataframe thead th {\n        text-align: right;\n    }\n</style>\n<table border=\"1\" class=\"dataframe\">\n  <thead>\n    <tr style=\"text-align: right;\">\n      <th></th>\n      <th>frame</th>\n      <th>x</th>\n      <th>y</th>\n      <th>r</th>\n      <th>particle</th>\n      <th>order_r</th>\n      <th>order_i</th>\n      <th>order_mag</th>\n      <th>neighbors</th>\n      <th>order_mean</th>\n      <th>order_sus</th>\n      <th>density</th>\n      <th>shape_factor</th>\n      <th>on_edge</th>\n    </tr>\n    <tr>\n      <th>Duty</th>\n      <th></th>\n      <th></th>\n      <th></th>\n      <th></th>\n      <th></th>\n      <th></th>\n      <th></th>\n      <th></th>\n      <th></th>\n      <th></th>\n      <th></th>\n      <th></th>\n      <th></th>\n      <th></th>\n    </tr>\n  </thead>\n  <tbody>\n    <tr>\n      <th>985</th>\n      <td>0</td>\n      <td>993</td>\n      <td>727</td>\n      <td>13</td>\n      <td>0</td>\n      <td>0.877166</td>\n      <td>-0.388554</td>\n      <td>0.959372</td>\n      <td>3</td>\n      <td>0.731348</td>\n      <td>0.05058</td>\n      <td>1687.766724</td>\n      <td>1.332709</td>\n      <td>False</td>\n    </tr>\n    <tr>\n      <th>985</th>\n      <td>0</td>\n      <td>1231</td>\n      <td>1463</td>\n      <td>13</td>\n      <td>1</td>\n      <td>0.183332</td>\n      <td>0.161232</td>\n      <td>0.244144</td>\n      <td>5</td>\n      <td>0.731348</td>\n      <td>0.05058</td>\n      <td>2466.686523</td>\n      <td>1.211645</td>\n      <td>False</td>\n    </tr>\n    <tr>\n      <th>985</th>\n      <td>0</td>\n      <td>1232</td>\n      <td>1239</td>\n      <td>13</td>\n      <td>2</td>\n      <td>0.858125</td>\n      <td>0.430400</td>\n      <td>0.960012</td>\n      <td>5</td>\n      <td>0.731348</td>\n      <td>0.05058</td>\n      <td>2367.313477</td>\n      <td>1.327300</td>\n      <td>False</td>\n    </tr>\n    <tr>\n      <th>985</th>\n      <td>0</td>\n      <td>1240</td>\n      <td>134</td>\n      <td>13</td>\n      <td>3</td>\n      <td>0.803376</td>\n      <td>0.128297</td>\n      <td>0.813556</td>\n      <td>5</td>\n      <td>0.731348</td>\n      <td>0.05058</td>\n      <td>2221.979980</td>\n      <td>1.229863</td>\n      <td>False</td>\n    </tr>\n    <tr>\n      <th>985</th>\n      <td>0</td>\n      <td>1244</td>\n      <td>266</td>\n      <td>13</td>\n      <td>4</td>\n      <td>-0.579496</td>\n      <td>0.379691</td>\n      <td>0.692806</td>\n      <td>4</td>\n      <td>0.731348</td>\n      <td>0.05058</td>\n      <td>1298.586182</td>\n      <td>1.251564</td>\n      <td>False</td>\n    </tr>\n  </tbody>\n</table>\n</div>"
     },
     "metadata": {},
     "output_type": "execute_result",
     "execution_count": 33
    }
   ],
   "source": [
    "data.df = data.df.reset_index().set_index('Duty')\n",
    "data.df.head()\n"
   ],
   "metadata": {
    "collapsed": false,
    "pycharm": {
     "name": "#%%\n",
     "is_executing": false
    }
   }
  },
  {
   "cell_type": "code",
   "execution_count": 40,
   "outputs": [],
   "source": [
    "def find_nearest(array, value):\n",
    "    array = np.asarray(array)\n",
    "    idx = (np.abs(array - value)).argmin()\n",
    "    return array[idx]"
   ],
   "metadata": {
    "collapsed": false,
    "pycharm": {
     "name": "#%%\n",
     "is_executing": false
    }
   }
  },
  {
   "cell_type": "code",
   "execution_count": 42,
   "outputs": [
    {
     "name": "stdout",
     "text": [
      "400\n",
      "500\n",
      "600\n",
      "700\n",
      "800\n",
      "901\n"
     ],
     "output_type": "stream"
    }
   ],
   "source": [
    "fig, ax = plt.subplots()\n",
    "for di in [400, 500, 600, 700, 800, 900]:\n",
    "    d = find_nearest(data.df.index, di)\n",
    "    print(d)\n",
    "    order = data.df.loc[d, 'order_mag'].values\n",
    "    freq, bins = np.histogram(order, bins=np.linspace(0, 1, 100))\n",
    "    bins += (bins[1]-bins[0])/2\n",
    "    ax.plot(bins[:-1], freq, label=d)\n",
    "ax.legend()\n",
    "ax.set_xlabel('Order parameter')\n",
    "ax.set_ylabel('Frequency')\n",
    "plt.show()"
   ],
   "metadata": {
    "collapsed": false,
    "pycharm": {
     "name": "#%%\n",
     "is_executing": false
    }
   }
  }
 ],
 "metadata": {
  "language_info": {
   "codemirror_mode": {
    "name": "ipython",
    "version": 2
   },
   "file_extension": ".py",
   "mimetype": "text/x-python",
   "name": "python",
   "nbconvert_exporter": "python",
   "pygments_lexer": "ipython2",
   "version": "2.7.6"
  },
  "kernelspec": {
   "name": "python3",
   "language": "python",
   "display_name": "Python 3"
  },
  "pycharm": {
   "stem_cell": {
    "cell_type": "raw",
    "source": [],
    "metadata": {
     "collapsed": false
    }
   }
  }
 },
 "nbformat": 4,
 "nbformat_minor": 0
}